{
 "cells": [
  {
   "cell_type": "markdown",
   "metadata": {},
   "source": [
    "# Introduction\n",
    "\n",
    "In this project, you will build a neural network of your own design to evaluate the CIFAR-10 dataset.\n",
    "Our target accuracy is 70%, but any accuracy over 50% is a great start.\n",
    "Some of the benchmark results on CIFAR-10 include:\n",
    "\n",
    "78.9% Accuracy | [Deep Belief Networks; Krizhevsky, 2010](https://www.cs.toronto.edu/~kriz/conv-cifar10-aug2010.pdf)\n",
    "\n",
    "90.6% Accuracy | [Maxout Networks; Goodfellow et al., 2013](https://arxiv.org/pdf/1302.4389.pdf)\n",
    "\n",
    "96.0% Accuracy | [Wide Residual Networks; Zagoruyko et al., 2016](https://arxiv.org/pdf/1605.07146.pdf)\n",
    "\n",
    "99.0% Accuracy | [GPipe; Huang et al., 2018](https://arxiv.org/pdf/1811.06965.pdf)\n",
    "\n",
    "98.5% Accuracy | [Rethinking Recurrent Neural Networks and other Improvements for ImageClassification; Nguyen et al., 2020](https://arxiv.org/pdf/2007.15161.pdf)\n",
    "\n",
    "Research with this dataset is ongoing. Notably, many of these networks are quite large and quite expensive to train. \n",
    "\n",
    "## Imports"
   ]
  },
  {
   "cell_type": "code",
   "execution_count": 2,
   "metadata": {},
   "outputs": [],
   "source": [
    "## This cell contains the essential imports you will need – DO NOT CHANGE THE CONTENTS! ##\n",
    "import torch\n",
    "import torch.nn as nn\n",
    "import torch.nn.functional as F\n",
    "import torch.optim as optim\n",
    "import torchvision\n",
    "import torchvision.transforms as transforms\n",
    "import matplotlib.pyplot as plt\n",
    "import numpy as np"
   ]
  },
  {
   "cell_type": "markdown",
   "metadata": {},
   "source": [
    "## Load the Dataset\n",
    "\n",
    "Specify your transforms as a list first.\n",
    "The transforms module is already loaded as `transforms`.\n",
    "\n",
    "CIFAR-10 is fortunately included in the torchvision module.\n",
    "Then, you can create your dataset using the `CIFAR10` object from `torchvision.datasets` ([the documentation is available here](https://pytorch.org/docs/stable/torchvision/datasets.html#cifar)).\n",
    "Make sure to specify `download=True`! \n",
    "\n",
    "Once your dataset is created, you'll also need to define a `DataLoader` from the `torch.utils.data` module for both the train and the test set."
   ]
  },
  {
   "cell_type": "code",
   "execution_count": 6,
   "metadata": {},
   "outputs": [
    {
     "name": "stdout",
     "output_type": "stream",
     "text": [
      "Files already downloaded and verified\n",
      "Files already downloaded and verified\n"
     ]
    }
   ],
   "source": [
    "# Define transforms\n",
    "## YOUR CODE HERE ##\n",
    "root = \"./data\"\n",
    "batch_size = 32\n",
    "valid_size = 0.2\n",
    "mean = np.array([0.5, 0.5, 0.5])\n",
    "std = np.array([0.5, 0.5, 0.5])\n",
    "scale_size = 36\n",
    "crop_size = 32\n",
    "rotation = 10\n",
    "\n",
    "train_transform = transforms.Compose([\n",
    "    transforms.Resize(scale_size),\n",
    "    transforms.RandomRotation(rotation),\n",
    "    transforms.RandomHorizontalFlip(),\n",
    "    transforms.CenterCrop(crop_size),\n",
    "    transforms.ToTensor(),\n",
    "    transforms.Normalize(mean, std)\n",
    "])\n",
    "test_transform = transforms.Compose([\n",
    "    transforms.ToTensor(),\n",
    "    transforms.Normalize(mean, std)\n",
    "])\n",
    "show_transform = transforms.Compose([\n",
    "    transforms.Lambda(lambda img: img / 2 + 0.5),\n",
    "    transforms.Lambda(lambda img: np.transpose(img, (1, 2, 0))),\n",
    "])\n",
    "\n",
    "# Create training set and define training dataloader\n",
    "## YOUR CODE HERE ##\n",
    "train_set = torchvision.datasets.CIFAR10(root=root, train=True, download=True, transform=train_transform)\n",
    "\n",
    "num_train = len(train_set)\n",
    "indices = list(range(num_train))\n",
    "np.random.shuffle(indices)\n",
    "split = int(np.floor(valid_size*num_train))\n",
    "train_idx, valid_idx = indices[split:], indices[:split]\n",
    "train_sampler = torch.utils.data.sampler.SubsetRandomSampler(train_idx)\n",
    "val_sampler = torch.utils.data.sampler.SubsetRandomSampler(valid_idx)\n",
    "\n",
    "train_loader = torch.utils.data.DataLoader(train_set, batch_size=batch_size, sampler=train_sampler)\n",
    "val_loader = torch.utils.data.DataLoader(train_set, batch_size=batch_size, sampler=val_sampler)\n",
    "\n",
    "# Create test set and define test dataloader\n",
    "## YOUR CODE HERE ##\n",
    "test_set = torchvision.datasets.CIFAR10(root=root, train=False, download=True, transform=test_transform)\n",
    "test_loader = torch.utils.data.DataLoader(test_set, batch_size=batch_size, shuffle=True)\n",
    "\n",
    "# The 10 classes in the dataset\n",
    "classes = ('plane', 'car', 'bird', 'cat', 'deer', 'dog', 'frog', 'horse', 'ship', 'truck')"
   ]
  },
  {
   "cell_type": "markdown",
   "metadata": {},
   "source": [
    "## Explore the Dataset\n",
    "Using matplotlib, numpy, and torch, explore the dimensions of your data.\n",
    "\n",
    "You can view images using the `show5` function defined below – it takes a data loader as an argument.\n",
    "Remember that normalized images will look really weird to you! You may want to try changing your transforms to view images.\n",
    "Typically using no transforms other than `toTensor()` works well for viewing – but not as well for training your network.\n",
    "If `show5` doesn't work, go back and check your code for creating your data loaders and your training/test sets."
   ]
  },
  {
   "cell_type": "code",
   "execution_count": 7,
   "metadata": {},
   "outputs": [],
   "source": [
    "def show5(img_loader):\n",
    "    dataiter = iter(img_loader)\n",
    "    \n",
    "    batch = next(dataiter)\n",
    "    labels = batch[1][0:5]\n",
    "    images = batch[0][0:5]\n",
    "    for i in range(5):\n",
    "        print(classes[labels[i]])\n",
    "        \n",
    "        image = images[i]\n",
    "        image = show_transform(image)\n",
    "        plt.imshow(image)\n",
    "        plt.show()"
   ]
  },
  {
   "cell_type": "code",
   "execution_count": 19,
   "metadata": {},
   "outputs": [
    {
     "name": "stdout",
     "output_type": "stream",
     "text": [
      "train images\n",
      "cat\n"
     ]
    },
    {
     "data": {
      "image/png": "[encoded data removed]",
      "text/plain": [
       "<Figure size 432x288 with 1 Axes>"
      ]
     },
     "metadata": {
      "needs_background": "light"
     },
     "output_type": "display_data"
    },
    {
     "name": "stdout",
     "output_type": "stream",
     "text": [
      "horse\n"
     ]
    },
    {
     "data": {
      "image/png": "[encoded data removed]",
      "text/plain": [
       "<Figure size 432x288 with 1 Axes>"
      ]
     },
     "metadata": {
      "needs_background": "light"
     },
     "output_type": "display_data"
    },
    {
     "name": "stdout",
     "output_type": "stream",
     "text": [
      "bird\n"
     ]
    },
    {
     "data": {
      "image/png": "[encoded data removed]",
      "text/plain": [
       "<Figure size 432x288 with 1 Axes>"
      ]
     },
     "metadata": {
      "needs_background": "light"
     },
     "output_type": "display_data"
    },
    {
     "name": "stdout",
     "output_type": "stream",
     "text": [
      "dog\n"
     ]
    },
    {
     "data": {
      "image/png": "[encoded data removed]",
      "text/plain": [
       "<Figure size 432x288 with 1 Axes>"
      ]
     },
     "metadata": {
      "needs_background": "light"
     },
     "output_type": "display_data"
    },
    {
     "name": "stdout",
     "output_type": "stream",
     "text": [
      "deer\n"
     ]
    },
    {
     "data": {
      "image/png": "[encoded data removed]",
      "text/plain": [
       "<Figure size 432x288 with 1 Axes>"
      ]
     },
     "metadata": {
      "needs_background": "light"
     },
     "output_type": "display_data"
    },
    {
     "name": "stdout",
     "output_type": "stream",
     "text": [
      "test images\n",
      "dog\n"
     ]
    },
    {
     "data": {
      "image/png": "[encoded data removed]",
      "text/plain": [
       "<Figure size 432x288 with 1 Axes>"
      ]
     },
     "metadata": {
      "needs_background": "light"
     },
     "output_type": "display_data"
    },
    {
     "name": "stdout",
     "output_type": "stream",
     "text": [
      "bird\n"
     ]
    },
    {
     "data": {
      "image/png": "[encoded data removed]",
      "text/plain": [
       "<Figure size 432x288 with 1 Axes>"
      ]
     },
     "metadata": {
      "needs_background": "light"
     },
     "output_type": "display_data"
    },
    {
     "name": "stdout",
     "output_type": "stream",
     "text": [
      "bird\n"
     ]
    },
    {
     "data": {
      "image/png": "[encoded data removed]",
      "text/plain": [
       "<Figure size 432x288 with 1 Axes>"
      ]
     },
     "metadata": {
      "needs_background": "light"
     },
     "output_type": "display_data"
    },
    {
     "name": "stdout",
     "output_type": "stream",
     "text": [
      "horse\n"
     ]
    },
    {
     "data": {
      "image/png": "[encoded data removed]",
      "text/plain": [
       "<Figure size 432x288 with 1 Axes>"
      ]
     },
     "metadata": {
      "needs_background": "light"
     },
     "output_type": "display_data"
    },
    {
     "name": "stdout",
     "output_type": "stream",
     "text": [
      "cat\n"
     ]
    },
    {
     "data": {
      "image/png": "[encoded data removed]",
      "text/plain": [
       "<Figure size 432x288 with 1 Axes>"
      ]
     },
     "metadata": {
      "needs_background": "light"
     },
     "output_type": "display_data"
    }
   ],
   "source": [
    "# Explore data\n",
    "## YOUR CODE HERE ##\n",
    "print(\"train images\")\n",
    "show5(train_loader)\n",
    "\n",
    "print(\"test images\")\n",
    "show5(test_loader)"
   ]
  },
  {
   "cell_type": "markdown",
   "metadata": {},
   "source": [
    "## Build your Neural Network\n",
    "Using the layers in `torch.nn` (which has been imported as `nn`) and the `torch.nn.functional` module (imported as `F`), construct a neural network based on the parameters of the dataset. \n",
    "Feel free to construct a model of any architecture – feedforward, convolutional, or even something more advanced!"
   ]
  },
  {
   "cell_type": "code",
   "execution_count": 11,
   "metadata": {},
   "outputs": [],
   "source": [
    "## YOUR CODE HERE ##\n",
    "class Net(nn.Module):\n",
    "\n",
    "    def __init__(self, output_classes, dropout=0.25, fc_dim=512):\n",
    "        super(Net, self).__init__()\n",
    "        \n",
    "        self.output_classes = output_classes\n",
    "        self.dropout = dropout\n",
    "        self.fc_dim = fc_dim\n",
    "        \n",
    "        self.conv1 = nn.Conv2d(3, 16, 3, padding=1, stride=1)\n",
    "        self.conv2 = nn.Conv2d(16, 32, 3, padding=1, stride=1)\n",
    "        self.conv3 = nn.Conv2d(32, 64, 3, padding=1, stride=1)\n",
    "        self.pool1 = nn.MaxPool2d(2,2)\n",
    "        self.fc1 = nn.Linear(64 * 4 * 4, fc_dim)\n",
    "        self.fc2 = nn.Linear(fc_dim, output_classes)\n",
    "        self.dropout = nn.Dropout(dropout)\n",
    "    \n",
    "    def forward(self, x):\n",
    "        x = F.relu(self.conv1(x))\n",
    "        x = self.pool1(x)\n",
    "        \n",
    "        x = F.relu(self.conv2(x))\n",
    "        x = self.pool1(x)\n",
    "        \n",
    "        x = F.relu(self.conv3(x))\n",
    "        x = self.pool1(x)\n",
    "        \n",
    "        x = x.view(-1, 64 * 4 * 4)  \n",
    "        x = self.dropout(x)\n",
    "        \n",
    "        x = F.relu(self.fc1(x))\n",
    "        x = self.dropout(x)\n",
    "        \n",
    "        x = F.relu(self.fc2(x))\n",
    "        \n",
    "        return x"
   ]
  },
  {
   "cell_type": "markdown",
   "metadata": {},
   "source": [
    "Specify a loss function and an optimizer, and instantiate the model.\n",
    "\n",
    "If you use a less common loss function, please note why you chose that loss function in a comment."
   ]
  },
  {
   "cell_type": "code",
   "execution_count": 13,
   "metadata": {},
   "outputs": [],
   "source": [
    "## YOUR CODE HERE ##\n",
    "\n",
    "model = Net(output_classes = len(classes))\n",
    "learning_rate = 0.01\n",
    "criterion = torch.nn.CrossEntropyLoss()\n",
    "optimizer = optim.SGD(model.parameters(), lr=learning_rate)"
   ]
  },
  {
   "cell_type": "markdown",
   "metadata": {},
   "source": [
    "## Running your Neural Network\n",
    "Use whatever method you like to train your neural network, and ensure you record the average loss at each epoch. \n",
    "Don't forget to use `torch.device()` and the `.to()` method for both your model and your data if you are using GPU!\n",
    "\n",
    "If you want to print your loss during each epoch, you can use the `enumerate` function and print the loss after a set number of batches. 250 batches works well for most people!"
   ]
  },
  {
   "cell_type": "code",
   "execution_count": 14,
   "metadata": {},
   "outputs": [
    {
     "name": "stdout",
     "output_type": "stream",
     "text": [
      "Epoch: 1/100, Train loss: 2.297667, Val loss: 2.299237, Accuracy: 16.48 %\n",
      "Epoch: 1/100, Train loss: 2.282070, Val loss: 2.293009, Accuracy: 17.54 %\n",
      "Epoch: 1/100, Train loss: 2.311329, Val loss: 2.279449, Accuracy: 19.72 %\n",
      "Epoch: 1/100, Train loss: 2.257565, Val loss: 2.257236, Accuracy: 18.78 %\n",
      "Epoch: 1/100, Train loss: 2.256098, Val loss: 2.184444, Accuracy: 22.13 %\n",
      "Epoch: 2/100, Train loss: 2.134056, Val loss: 2.118571, Accuracy: 24.93 %\n",
      "Epoch: 2/100, Train loss: 2.008744, Val loss: 2.050473, Accuracy: 27.36 %\n",
      "Epoch: 2/100, Train loss: 1.983996, Val loss: 2.001478, Accuracy: 27.86 %\n",
      "Epoch: 2/100, Train loss: 1.846529, Val loss: 1.977337, Accuracy: 28.74 %\n",
      "Epoch: 2/100, Train loss: 1.982086, Val loss: 1.948299, Accuracy: 29.75 %\n",
      "Epoch: 3/100, Train loss: 2.200647, Val loss: 1.908834, Accuracy: 31.63 %\n",
      "Epoch: 3/100, Train loss: 1.823707, Val loss: 1.858805, Accuracy: 34.03 %\n",
      "Epoch: 3/100, Train loss: 1.798541, Val loss: 1.818967, Accuracy: 35.64 %\n",
      "Epoch: 3/100, Train loss: 1.801898, Val loss: 1.778699, Accuracy: 36.80 %\n",
      "Epoch: 3/100, Train loss: 1.941020, Val loss: 1.748295, Accuracy: 37.27 %\n",
      "Epoch: 4/100, Train loss: 1.910213, Val loss: 1.682645, Accuracy: 38.69 %\n",
      "Epoch: 4/100, Train loss: 1.572906, Val loss: 1.659379, Accuracy: 39.33 %\n",
      "Epoch: 4/100, Train loss: 1.664362, Val loss: 1.597224, Accuracy: 42.16 %\n",
      "Epoch: 4/100, Train loss: 1.584639, Val loss: 1.570976, Accuracy: 43.38 %\n",
      "Epoch: 4/100, Train loss: 1.784712, Val loss: 1.558207, Accuracy: 43.33 %\n",
      "Epoch: 5/100, Train loss: 1.854413, Val loss: 1.526383, Accuracy: 44.51 %\n",
      "Epoch: 5/100, Train loss: 1.276952, Val loss: 1.501550, Accuracy: 46.10 %\n",
      "Epoch: 5/100, Train loss: 1.703148, Val loss: 1.504149, Accuracy: 45.79 %\n",
      "Epoch: 5/100, Train loss: 1.717302, Val loss: 1.504748, Accuracy: 46.10 %\n",
      "Epoch: 5/100, Train loss: 1.498870, Val loss: 1.472250, Accuracy: 47.30 %\n",
      "Epoch: 6/100, Train loss: 1.566722, Val loss: 1.451231, Accuracy: 48.20 %\n",
      "Epoch: 6/100, Train loss: 1.324974, Val loss: 1.444010, Accuracy: 48.55 %\n",
      "Epoch: 6/100, Train loss: 1.743738, Val loss: 1.432451, Accuracy: 48.70 %\n",
      "Epoch: 6/100, Train loss: 1.557798, Val loss: 1.418252, Accuracy: 49.51 %\n",
      "Epoch: 6/100, Train loss: 1.501942, Val loss: 1.450826, Accuracy: 47.72 %\n",
      "Epoch: 7/100, Train loss: 1.681364, Val loss: 1.389745, Accuracy: 50.83 %\n",
      "Epoch: 7/100, Train loss: 1.507172, Val loss: 1.375587, Accuracy: 50.98 %\n",
      "Epoch: 7/100, Train loss: 1.299155, Val loss: 1.380684, Accuracy: 49.82 %\n",
      "Epoch: 7/100, Train loss: 1.522153, Val loss: 1.351948, Accuracy: 52.22 %\n",
      "Epoch: 7/100, Train loss: 1.520823, Val loss: 1.422882, Accuracy: 49.41 %\n",
      "Epoch: 8/100, Train loss: 1.631932, Val loss: 1.335764, Accuracy: 52.61 %\n",
      "Epoch: 8/100, Train loss: 1.461722, Val loss: 1.323563, Accuracy: 53.06 %\n",
      "Epoch: 8/100, Train loss: 1.517906, Val loss: 1.349887, Accuracy: 52.45 %\n",
      "Epoch: 8/100, Train loss: 1.192554, Val loss: 1.305360, Accuracy: 53.51 %\n",
      "Epoch: 8/100, Train loss: 1.419257, Val loss: 1.303022, Accuracy: 53.61 %\n",
      "Epoch: 9/100, Train loss: 1.105116, Val loss: 1.295639, Accuracy: 53.43 %\n",
      "Epoch: 9/100, Train loss: 1.746645, Val loss: 1.331072, Accuracy: 53.26 %\n",
      "Epoch: 9/100, Train loss: 1.330339, Val loss: 1.291652, Accuracy: 53.77 %\n",
      "Epoch: 9/100, Train loss: 1.264326, Val loss: 1.260790, Accuracy: 55.01 %\n",
      "Epoch: 9/100, Train loss: 1.096274, Val loss: 1.258439, Accuracy: 55.35 %\n",
      "Epoch: 10/100, Train loss: 1.231797, Val loss: 1.244817, Accuracy: 56.35 %\n",
      "Epoch: 10/100, Train loss: 1.272612, Val loss: 1.245634, Accuracy: 55.95 %\n",
      "Epoch: 10/100, Train loss: 1.375983, Val loss: 1.296383, Accuracy: 54.51 %\n",
      "Epoch: 10/100, Train loss: 1.315133, Val loss: 1.241667, Accuracy: 56.54 %\n",
      "Epoch: 10/100, Train loss: 1.060125, Val loss: 1.241860, Accuracy: 55.37 %\n",
      "Epoch: 11/100, Train loss: 1.305897, Val loss: 1.206504, Accuracy: 58.25 %\n",
      "Epoch: 11/100, Train loss: 1.268627, Val loss: 1.220709, Accuracy: 56.73 %\n",
      "Epoch: 11/100, Train loss: 1.337053, Val loss: 1.194023, Accuracy: 58.50 %\n",
      "Epoch: 11/100, Train loss: 1.122559, Val loss: 1.187753, Accuracy: 58.86 %\n",
      "Epoch: 11/100, Train loss: 1.459936, Val loss: 1.220177, Accuracy: 56.98 %\n",
      "Epoch: 12/100, Train loss: 1.232466, Val loss: 1.171672, Accuracy: 59.05 %\n",
      "Epoch: 12/100, Train loss: 1.269032, Val loss: 1.190557, Accuracy: 58.65 %\n",
      "Epoch: 12/100, Train loss: 1.499571, Val loss: 1.149306, Accuracy: 59.82 %\n",
      "Epoch: 12/100, Train loss: 1.442941, Val loss: 1.142869, Accuracy: 60.44 %\n",
      "Epoch: 12/100, Train loss: 1.070922, Val loss: 1.151411, Accuracy: 59.49 %\n",
      "Epoch: 13/100, Train loss: 1.193672, Val loss: 1.152762, Accuracy: 59.29 %\n",
      "Epoch: 13/100, Train loss: 1.600504, Val loss: 1.156707, Accuracy: 59.81 %\n",
      "Epoch: 13/100, Train loss: 0.699090, Val loss: 1.118206, Accuracy: 61.41 %\n",
      "Epoch: 13/100, Train loss: 1.197976, Val loss: 1.121590, Accuracy: 60.95 %\n",
      "Epoch: 13/100, Train loss: 1.222476, Val loss: 1.120914, Accuracy: 61.52 %\n",
      "Epoch: 14/100, Train loss: 0.873529, Val loss: 1.108640, Accuracy: 61.48 %\n",
      "Epoch: 14/100, Train loss: 1.829198, Val loss: 1.164193, Accuracy: 59.85 %\n",
      "Epoch: 14/100, Train loss: 1.392000, Val loss: 1.094433, Accuracy: 62.47 %\n",
      "Epoch: 14/100, Train loss: 1.098287, Val loss: 1.118894, Accuracy: 61.10 %\n",
      "Epoch: 14/100, Train loss: 1.200484, Val loss: 1.077889, Accuracy: 62.96 %\n",
      "Epoch: 15/100, Train loss: 1.285670, Val loss: 1.072581, Accuracy: 63.22 %\n",
      "Epoch: 15/100, Train loss: 1.243883, Val loss: 1.107244, Accuracy: 61.13 %\n",
      "Epoch: 15/100, Train loss: 0.900644, Val loss: 1.065768, Accuracy: 62.42 %\n",
      "Epoch: 15/100, Train loss: 1.506299, Val loss: 1.081516, Accuracy: 62.72 %\n",
      "Epoch: 15/100, Train loss: 1.423810, Val loss: 1.061719, Accuracy: 63.46 %\n",
      "Epoch: 16/100, Train loss: 1.062839, Val loss: 1.061428, Accuracy: 63.12 %\n",
      "Epoch: 16/100, Train loss: 0.930346, Val loss: 1.052570, Accuracy: 64.06 %\n",
      "Epoch: 16/100, Train loss: 1.226977, Val loss: 1.046878, Accuracy: 63.70 %\n",
      "Epoch: 16/100, Train loss: 0.996082, Val loss: 1.060172, Accuracy: 63.27 %\n",
      "Epoch: 16/100, Train loss: 1.106080, Val loss: 1.027252, Accuracy: 64.87 %\n",
      "Epoch: 17/100, Train loss: 1.083535, Val loss: 1.046287, Accuracy: 63.89 %\n",
      "Epoch: 17/100, Train loss: 0.988969, Val loss: 1.023064, Accuracy: 64.76 %\n",
      "Epoch: 17/100, Train loss: 1.190972, Val loss: 1.035597, Accuracy: 63.75 %\n",
      "Epoch: 17/100, Train loss: 1.096358, Val loss: 1.006481, Accuracy: 65.89 %\n",
      "Epoch: 17/100, Train loss: 1.208557, Val loss: 1.011231, Accuracy: 64.77 %\n",
      "Epoch: 18/100, Train loss: 1.033267, Val loss: 1.039917, Accuracy: 63.79 %\n",
      "Epoch: 18/100, Train loss: 1.268358, Val loss: 1.008779, Accuracy: 65.16 %\n",
      "Epoch: 18/100, Train loss: 1.085756, Val loss: 1.007560, Accuracy: 65.50 %\n",
      "Epoch: 18/100, Train loss: 1.127818, Val loss: 1.028918, Accuracy: 63.85 %\n",
      "Epoch: 18/100, Train loss: 0.769599, Val loss: 0.983213, Accuracy: 66.09 %\n",
      "Epoch: 19/100, Train loss: 1.321788, Val loss: 0.987244, Accuracy: 66.32 %\n",
      "Epoch: 19/100, Train loss: 1.047142, Val loss: 0.969588, Accuracy: 66.67 %\n",
      "Epoch: 19/100, Train loss: 1.173031, Val loss: 0.985996, Accuracy: 66.18 %\n",
      "Epoch: 19/100, Train loss: 0.756513, Val loss: 0.982045, Accuracy: 66.28 %\n",
      "Epoch: 19/100, Train loss: 1.112576, Val loss: 1.004175, Accuracy: 65.52 %\n",
      "Epoch: 20/100, Train loss: 1.069301, Val loss: 0.976610, Accuracy: 65.26 %\n",
      "Epoch: 20/100, Train loss: 0.809825, Val loss: 0.969478, Accuracy: 66.31 %\n",
      "Epoch: 20/100, Train loss: 1.187330, Val loss: 0.963383, Accuracy: 67.01 %\n",
      "Epoch: 20/100, Train loss: 1.056552, Val loss: 0.985264, Accuracy: 66.35 %\n",
      "Epoch: 20/100, Train loss: 0.911274, Val loss: 0.947230, Accuracy: 67.80 %\n",
      "Epoch: 21/100, Train loss: 1.315018, Val loss: 0.955408, Accuracy: 67.15 %\n",
      "Epoch: 21/100, Train loss: 1.067665, Val loss: 0.950012, Accuracy: 67.14 %\n",
      "Epoch: 21/100, Train loss: 1.058784, Val loss: 0.941621, Accuracy: 67.43 %\n",
      "Epoch: 21/100, Train loss: 1.066328, Val loss: 0.938524, Accuracy: 67.65 %\n",
      "Epoch: 21/100, Train loss: 1.108589, Val loss: 0.944581, Accuracy: 67.40 %\n",
      "Epoch: 22/100, Train loss: 1.001186, Val loss: 0.949885, Accuracy: 67.03 %\n",
      "Epoch: 22/100, Train loss: 1.066393, Val loss: 0.925305, Accuracy: 67.88 %\n",
      "Epoch: 22/100, Train loss: 1.064294, Val loss: 0.910821, Accuracy: 69.13 %\n",
      "Epoch: 22/100, Train loss: 1.159942, Val loss: 0.966506, Accuracy: 66.40 %\n",
      "Epoch: 22/100, Train loss: 1.361177, Val loss: 0.913303, Accuracy: 68.54 %\n"
     ]
    },
    {
     "name": "stdout",
     "output_type": "stream",
     "text": [
      "Epoch: 23/100, Train loss: 1.131511, Val loss: 0.912741, Accuracy: 68.47 %\n",
      "Epoch: 23/100, Train loss: 0.926551, Val loss: 0.912106, Accuracy: 68.76 %\n",
      "Epoch: 23/100, Train loss: 0.878171, Val loss: 0.929943, Accuracy: 67.73 %\n",
      "Epoch: 23/100, Train loss: 0.981191, Val loss: 0.918947, Accuracy: 68.42 %\n",
      "Epoch: 23/100, Train loss: 1.258023, Val loss: 0.895380, Accuracy: 69.30 %\n",
      "Epoch: 24/100, Train loss: 0.654758, Val loss: 0.914718, Accuracy: 68.43 %\n",
      "Epoch: 24/100, Train loss: 0.972504, Val loss: 0.898018, Accuracy: 68.96 %\n",
      "Epoch: 24/100, Train loss: 0.976714, Val loss: 0.883160, Accuracy: 69.27 %\n",
      "Epoch: 24/100, Train loss: 1.021469, Val loss: 0.897154, Accuracy: 69.29 %\n",
      "Epoch: 24/100, Train loss: 0.869145, Val loss: 0.899731, Accuracy: 69.00 %\n",
      "Epoch: 25/100, Train loss: 0.958824, Val loss: 0.885346, Accuracy: 69.63 %\n",
      "Epoch: 25/100, Train loss: 0.812880, Val loss: 0.896205, Accuracy: 69.22 %\n",
      "Epoch: 25/100, Train loss: 1.157775, Val loss: 0.880129, Accuracy: 69.39 %\n",
      "Epoch: 25/100, Train loss: 0.902774, Val loss: 0.874522, Accuracy: 69.76 %\n",
      "Epoch: 25/100, Train loss: 0.991652, Val loss: 0.871438, Accuracy: 70.39 %\n",
      "Epoch: 26/100, Train loss: 1.256418, Val loss: 0.898639, Accuracy: 68.83 %\n",
      "Epoch: 26/100, Train loss: 0.685356, Val loss: 0.860181, Accuracy: 70.49 %\n",
      "Epoch: 26/100, Train loss: 0.910245, Val loss: 0.863913, Accuracy: 69.95 %\n",
      "Epoch: 26/100, Train loss: 0.902086, Val loss: 0.867433, Accuracy: 70.14 %\n",
      "Epoch: 26/100, Train loss: 1.048974, Val loss: 0.850926, Accuracy: 70.85 %\n",
      "Epoch: 27/100, Train loss: 0.877134, Val loss: 0.870178, Accuracy: 70.14 %\n",
      "Epoch: 27/100, Train loss: 0.606786, Val loss: 0.846484, Accuracy: 71.07 %\n",
      "Epoch: 27/100, Train loss: 0.927016, Val loss: 0.866480, Accuracy: 70.41 %\n",
      "Epoch: 27/100, Train loss: 0.716455, Val loss: 0.854687, Accuracy: 70.39 %\n",
      "Epoch: 27/100, Train loss: 0.988260, Val loss: 0.864431, Accuracy: 70.14 %\n",
      "Epoch: 28/100, Train loss: 1.055463, Val loss: 0.839730, Accuracy: 71.19 %\n",
      "Epoch: 28/100, Train loss: 0.504323, Val loss: 0.858092, Accuracy: 70.12 %\n",
      "Epoch: 28/100, Train loss: 0.750348, Val loss: 0.838317, Accuracy: 70.75 %\n",
      "Epoch: 28/100, Train loss: 0.987535, Val loss: 0.835019, Accuracy: 70.98 %\n",
      "Epoch: 28/100, Train loss: 0.651361, Val loss: 0.845343, Accuracy: 70.52 %\n",
      "Epoch: 29/100, Train loss: 1.048375, Val loss: 0.867987, Accuracy: 69.93 %\n",
      "Epoch: 29/100, Train loss: 0.944549, Val loss: 0.842016, Accuracy: 71.77 %\n",
      "Epoch: 29/100, Train loss: 0.871750, Val loss: 0.843910, Accuracy: 70.19 %\n",
      "Epoch: 29/100, Train loss: 0.722870, Val loss: 0.826586, Accuracy: 70.86 %\n",
      "Epoch: 29/100, Train loss: 0.968782, Val loss: 0.838327, Accuracy: 70.47 %\n",
      "Epoch: 30/100, Train loss: 1.104191, Val loss: 0.825907, Accuracy: 71.35 %\n",
      "Epoch: 30/100, Train loss: 0.561116, Val loss: 0.831448, Accuracy: 71.24 %\n",
      "Epoch: 30/100, Train loss: 0.799870, Val loss: 0.831855, Accuracy: 71.63 %\n",
      "Epoch: 30/100, Train loss: 0.625767, Val loss: 0.819385, Accuracy: 72.09 %\n",
      "Epoch: 30/100, Train loss: 0.709882, Val loss: 0.828050, Accuracy: 71.34 %\n",
      "Epoch: 31/100, Train loss: 0.820422, Val loss: 0.818648, Accuracy: 71.46 %\n",
      "Epoch: 31/100, Train loss: 0.533890, Val loss: 0.832757, Accuracy: 70.79 %\n",
      "Epoch: 31/100, Train loss: 0.798604, Val loss: 0.816931, Accuracy: 71.97 %\n",
      "Epoch: 31/100, Train loss: 0.831774, Val loss: 0.817160, Accuracy: 71.73 %\n",
      "Epoch: 31/100, Train loss: 0.752474, Val loss: 0.820892, Accuracy: 71.94 %\n",
      "Epoch: 32/100, Train loss: 0.989032, Val loss: 0.828076, Accuracy: 71.08 %\n",
      "Epoch: 32/100, Train loss: 0.930275, Val loss: 0.807643, Accuracy: 72.64 %\n",
      "Epoch: 32/100, Train loss: 0.751561, Val loss: 0.825003, Accuracy: 71.25 %\n",
      "Epoch: 32/100, Train loss: 0.762004, Val loss: 0.813589, Accuracy: 71.76 %\n",
      "Epoch: 32/100, Train loss: 1.040081, Val loss: 0.811123, Accuracy: 72.41 %\n",
      "Epoch: 33/100, Train loss: 0.831189, Val loss: 0.798149, Accuracy: 72.31 %\n",
      "Epoch: 33/100, Train loss: 0.629505, Val loss: 0.811249, Accuracy: 71.93 %\n",
      "Epoch: 33/100, Train loss: 0.706498, Val loss: 0.792915, Accuracy: 72.80 %\n",
      "Epoch: 33/100, Train loss: 0.745336, Val loss: 0.802422, Accuracy: 72.07 %\n",
      "Epoch: 33/100, Train loss: 0.607457, Val loss: 0.797433, Accuracy: 72.44 %\n",
      "Epoch: 34/100, Train loss: 1.183741, Val loss: 0.802614, Accuracy: 72.33 %\n",
      "Epoch: 34/100, Train loss: 0.868232, Val loss: 0.803971, Accuracy: 72.24 %\n",
      "Epoch: 34/100, Train loss: 0.803497, Val loss: 0.794348, Accuracy: 72.68 %\n",
      "Epoch: 34/100, Train loss: 0.765378, Val loss: 0.786504, Accuracy: 73.04 %\n",
      "Epoch: 34/100, Train loss: 0.808129, Val loss: 0.779508, Accuracy: 73.00 %\n",
      "Epoch: 35/100, Train loss: 1.044665, Val loss: 0.800371, Accuracy: 72.63 %\n",
      "Epoch: 35/100, Train loss: 0.697361, Val loss: 0.786743, Accuracy: 73.10 %\n",
      "Epoch: 35/100, Train loss: 0.901607, Val loss: 0.788737, Accuracy: 72.58 %\n",
      "Epoch: 35/100, Train loss: 0.931641, Val loss: 0.774674, Accuracy: 73.41 %\n",
      "Epoch: 35/100, Train loss: 0.591160, Val loss: 0.778196, Accuracy: 73.39 %\n",
      "Epoch: 36/100, Train loss: 0.677297, Val loss: 0.773986, Accuracy: 73.47 %\n",
      "Epoch: 36/100, Train loss: 0.524357, Val loss: 0.786968, Accuracy: 72.61 %\n",
      "Epoch: 36/100, Train loss: 0.465692, Val loss: 0.791752, Accuracy: 73.16 %\n",
      "Epoch: 36/100, Train loss: 0.595803, Val loss: 0.768071, Accuracy: 73.40 %\n",
      "Epoch: 36/100, Train loss: 0.506970, Val loss: 0.770675, Accuracy: 73.69 %\n",
      "Epoch: 37/100, Train loss: 1.045942, Val loss: 0.775928, Accuracy: 73.91 %\n",
      "Epoch: 37/100, Train loss: 0.696088, Val loss: 0.771788, Accuracy: 73.49 %\n",
      "Epoch: 37/100, Train loss: 0.763309, Val loss: 0.767148, Accuracy: 73.41 %\n",
      "Epoch: 37/100, Train loss: 0.878175, Val loss: 0.764485, Accuracy: 73.92 %\n",
      "Epoch: 37/100, Train loss: 0.411209, Val loss: 0.768526, Accuracy: 73.77 %\n",
      "Epoch: 38/100, Train loss: 0.696119, Val loss: 0.772983, Accuracy: 73.28 %\n",
      "Epoch: 38/100, Train loss: 0.978231, Val loss: 0.784367, Accuracy: 72.47 %\n",
      "Epoch: 38/100, Train loss: 0.499933, Val loss: 0.774411, Accuracy: 73.05 %\n",
      "Epoch: 38/100, Train loss: 0.847072, Val loss: 0.753699, Accuracy: 74.04 %\n",
      "Epoch: 38/100, Train loss: 0.754583, Val loss: 0.765604, Accuracy: 73.25 %\n",
      "Epoch: 39/100, Train loss: 0.841362, Val loss: 0.771825, Accuracy: 73.36 %\n",
      "Epoch: 39/100, Train loss: 0.686076, Val loss: 0.758499, Accuracy: 73.81 %\n",
      "Epoch: 39/100, Train loss: 0.881834, Val loss: 0.759722, Accuracy: 73.98 %\n",
      "Epoch: 39/100, Train loss: 0.940483, Val loss: 0.771081, Accuracy: 73.60 %\n",
      "Epoch: 39/100, Train loss: 0.874700, Val loss: 0.760622, Accuracy: 73.61 %\n",
      "Epoch: 40/100, Train loss: 0.501943, Val loss: 0.755698, Accuracy: 74.27 %\n",
      "Epoch: 40/100, Train loss: 0.959103, Val loss: 0.750593, Accuracy: 74.23 %\n",
      "Epoch: 40/100, Train loss: 1.068935, Val loss: 0.767671, Accuracy: 73.57 %\n",
      "Epoch: 40/100, Train loss: 0.707076, Val loss: 0.758723, Accuracy: 73.90 %\n",
      "Epoch: 40/100, Train loss: 0.443574, Val loss: 0.764678, Accuracy: 73.53 %\n",
      "Epoch: 41/100, Train loss: 0.501084, Val loss: 0.756546, Accuracy: 73.57 %\n",
      "Epoch: 41/100, Train loss: 0.979482, Val loss: 0.771637, Accuracy: 73.41 %\n",
      "Epoch: 41/100, Train loss: 0.515615, Val loss: 0.752068, Accuracy: 74.17 %\n",
      "Epoch: 41/100, Train loss: 0.694499, Val loss: 0.754438, Accuracy: 74.22 %\n",
      "Epoch: 41/100, Train loss: 0.388479, Val loss: 0.755287, Accuracy: 73.81 %\n",
      "Epoch: 42/100, Train loss: 1.069758, Val loss: 0.756514, Accuracy: 73.96 %\n",
      "Epoch: 42/100, Train loss: 0.695716, Val loss: 0.741565, Accuracy: 74.35 %\n",
      "Epoch: 42/100, Train loss: 0.608153, Val loss: 0.757626, Accuracy: 73.63 %\n",
      "Epoch: 42/100, Train loss: 0.529590, Val loss: 0.742084, Accuracy: 74.73 %\n",
      "Epoch: 42/100, Train loss: 0.661171, Val loss: 0.742737, Accuracy: 74.43 %\n",
      "Epoch: 43/100, Train loss: 0.796444, Val loss: 0.745478, Accuracy: 73.69 %\n",
      "Epoch: 43/100, Train loss: 0.868237, Val loss: 0.760734, Accuracy: 73.52 %\n",
      "Epoch: 43/100, Train loss: 0.553629, Val loss: 0.742821, Accuracy: 74.47 %\n",
      "Epoch: 43/100, Train loss: 0.789431, Val loss: 0.747658, Accuracy: 74.78 %\n",
      "Epoch: 43/100, Train loss: 0.700109, Val loss: 0.745064, Accuracy: 74.01 %\n",
      "Epoch: 44/100, Train loss: 0.491770, Val loss: 0.764497, Accuracy: 73.67 %\n",
      "Epoch: 44/100, Train loss: 1.017594, Val loss: 0.744292, Accuracy: 74.32 %\n",
      "Epoch: 44/100, Train loss: 0.689097, Val loss: 0.729649, Accuracy: 74.69 %\n",
      "Epoch: 44/100, Train loss: 0.494885, Val loss: 0.752264, Accuracy: 73.91 %\n",
      "Epoch: 44/100, Train loss: 0.474829, Val loss: 0.750553, Accuracy: 74.16 %\n"
     ]
    },
    {
     "name": "stdout",
     "output_type": "stream",
     "text": [
      "Epoch: 45/100, Train loss: 1.109315, Val loss: 0.734342, Accuracy: 74.87 %\n",
      "Epoch: 45/100, Train loss: 1.015743, Val loss: 0.741811, Accuracy: 74.42 %\n",
      "Epoch: 45/100, Train loss: 0.902465, Val loss: 0.761831, Accuracy: 74.21 %\n",
      "Epoch: 45/100, Train loss: 0.731180, Val loss: 0.744112, Accuracy: 74.29 %\n",
      "Epoch: 45/100, Train loss: 0.685255, Val loss: 0.735040, Accuracy: 74.20 %\n",
      "Epoch: 46/100, Train loss: 0.592508, Val loss: 0.744489, Accuracy: 74.20 %\n",
      "Epoch: 46/100, Train loss: 0.586475, Val loss: 0.729761, Accuracy: 74.68 %\n",
      "Epoch: 46/100, Train loss: 0.706620, Val loss: 0.719347, Accuracy: 75.23 %\n",
      "Epoch: 46/100, Train loss: 0.584432, Val loss: 0.728236, Accuracy: 74.74 %\n",
      "Epoch: 46/100, Train loss: 0.689372, Val loss: 0.718170, Accuracy: 74.99 %\n",
      "Epoch: 47/100, Train loss: 0.701565, Val loss: 0.744559, Accuracy: 74.67 %\n",
      "Epoch: 47/100, Train loss: 0.626593, Val loss: 0.725946, Accuracy: 74.88 %\n",
      "Epoch: 47/100, Train loss: 0.913501, Val loss: 0.731333, Accuracy: 75.20 %\n",
      "Epoch: 47/100, Train loss: 0.850330, Val loss: 0.733638, Accuracy: 74.80 %\n",
      "Epoch: 47/100, Train loss: 0.843600, Val loss: 0.737261, Accuracy: 75.05 %\n",
      "Epoch: 48/100, Train loss: 0.806167, Val loss: 0.724346, Accuracy: 74.91 %\n",
      "Epoch: 48/100, Train loss: 0.407614, Val loss: 0.730268, Accuracy: 75.22 %\n",
      "Epoch: 48/100, Train loss: 0.819966, Val loss: 0.722273, Accuracy: 74.59 %\n",
      "Epoch: 48/100, Train loss: 0.544483, Val loss: 0.728673, Accuracy: 74.81 %\n",
      "Epoch: 48/100, Train loss: 0.572988, Val loss: 0.719625, Accuracy: 75.51 %\n",
      "Epoch: 49/100, Train loss: 0.508814, Val loss: 0.722831, Accuracy: 74.59 %\n",
      "Epoch: 49/100, Train loss: 0.772493, Val loss: 0.721848, Accuracy: 75.15 %\n",
      "Epoch: 49/100, Train loss: 0.583628, Val loss: 0.719876, Accuracy: 75.24 %\n",
      "Epoch: 49/100, Train loss: 0.752466, Val loss: 0.743434, Accuracy: 74.17 %\n",
      "Epoch: 49/100, Train loss: 0.434963, Val loss: 0.733028, Accuracy: 74.91 %\n",
      "Epoch: 50/100, Train loss: 0.654449, Val loss: 0.720556, Accuracy: 75.09 %\n",
      "Epoch: 50/100, Train loss: 0.658198, Val loss: 0.709381, Accuracy: 75.80 %\n",
      "Epoch: 50/100, Train loss: 0.763425, Val loss: 0.709900, Accuracy: 75.08 %\n",
      "Epoch: 50/100, Train loss: 0.845544, Val loss: 0.718593, Accuracy: 75.46 %\n",
      "Epoch: 50/100, Train loss: 0.578457, Val loss: 0.728304, Accuracy: 74.97 %\n",
      "Epoch: 51/100, Train loss: 0.384463, Val loss: 0.722223, Accuracy: 75.48 %\n",
      "Epoch: 51/100, Train loss: 0.603815, Val loss: 0.717790, Accuracy: 75.17 %\n",
      "Epoch: 51/100, Train loss: 0.691226, Val loss: 0.708630, Accuracy: 75.45 %\n",
      "Epoch: 51/100, Train loss: 0.748710, Val loss: 0.714001, Accuracy: 75.43 %\n",
      "Epoch: 51/100, Train loss: 0.635879, Val loss: 0.729251, Accuracy: 74.91 %\n",
      "Epoch: 52/100, Train loss: 0.707895, Val loss: 0.722236, Accuracy: 75.28 %\n",
      "Epoch: 52/100, Train loss: 0.581799, Val loss: 0.721700, Accuracy: 74.90 %\n",
      "Epoch: 52/100, Train loss: 0.728413, Val loss: 0.729340, Accuracy: 74.80 %\n",
      "Epoch: 52/100, Train loss: 0.451030, Val loss: 0.726084, Accuracy: 74.92 %\n",
      "Epoch: 52/100, Train loss: 0.687887, Val loss: 0.724394, Accuracy: 74.72 %\n",
      "Epoch: 53/100, Train loss: 0.540184, Val loss: 0.739138, Accuracy: 74.35 %\n",
      "Epoch: 53/100, Train loss: 0.597440, Val loss: 0.723981, Accuracy: 75.17 %\n",
      "Epoch: 53/100, Train loss: 0.577312, Val loss: 0.724954, Accuracy: 74.94 %\n",
      "Epoch: 53/100, Train loss: 0.709675, Val loss: 0.717683, Accuracy: 75.13 %\n",
      "Epoch: 53/100, Train loss: 0.482838, Val loss: 0.705864, Accuracy: 75.59 %\n",
      "Epoch: 54/100, Train loss: 0.656528, Val loss: 0.706475, Accuracy: 75.49 %\n",
      "Epoch: 54/100, Train loss: 0.548413, Val loss: 0.709827, Accuracy: 75.56 %\n",
      "Epoch: 54/100, Train loss: 0.323956, Val loss: 0.706450, Accuracy: 75.70 %\n",
      "Epoch: 54/100, Train loss: 0.583240, Val loss: 0.713237, Accuracy: 75.45 %\n",
      "Epoch: 54/100, Train loss: 0.831034, Val loss: 0.723537, Accuracy: 75.22 %\n",
      "Epoch: 55/100, Train loss: 0.474509, Val loss: 0.714830, Accuracy: 75.27 %\n",
      "Epoch: 55/100, Train loss: 0.521398, Val loss: 0.713082, Accuracy: 75.36 %\n",
      "Epoch: 55/100, Train loss: 0.529611, Val loss: 0.718923, Accuracy: 75.48 %\n",
      "Epoch: 55/100, Train loss: 0.852579, Val loss: 0.696227, Accuracy: 75.90 %\n",
      "Epoch: 55/100, Train loss: 0.672122, Val loss: 0.713033, Accuracy: 75.37 %\n",
      "Epoch: 56/100, Train loss: 0.557154, Val loss: 0.701226, Accuracy: 75.81 %\n",
      "Epoch: 56/100, Train loss: 0.409304, Val loss: 0.700116, Accuracy: 75.66 %\n",
      "Epoch: 56/100, Train loss: 0.499537, Val loss: 0.717217, Accuracy: 75.40 %\n",
      "Epoch: 56/100, Train loss: 0.852216, Val loss: 0.722593, Accuracy: 75.34 %\n",
      "Epoch: 56/100, Train loss: 0.484265, Val loss: 0.704616, Accuracy: 75.37 %\n",
      "Epoch: 57/100, Train loss: 0.641359, Val loss: 0.714381, Accuracy: 75.13 %\n",
      "Epoch: 57/100, Train loss: 0.423003, Val loss: 0.699898, Accuracy: 75.66 %\n",
      "Epoch: 57/100, Train loss: 0.667490, Val loss: 0.702288, Accuracy: 75.86 %\n",
      "Epoch: 57/100, Train loss: 0.736184, Val loss: 0.705839, Accuracy: 75.29 %\n",
      "Epoch: 57/100, Train loss: 0.747496, Val loss: 0.696429, Accuracy: 76.17 %\n",
      "Epoch: 58/100, Train loss: 0.597936, Val loss: 0.704580, Accuracy: 75.88 %\n",
      "Epoch: 58/100, Train loss: 0.715692, Val loss: 0.699062, Accuracy: 75.78 %\n",
      "Epoch: 58/100, Train loss: 0.641196, Val loss: 0.696297, Accuracy: 76.04 %\n",
      "Epoch: 58/100, Train loss: 0.691364, Val loss: 0.691699, Accuracy: 76.04 %\n",
      "Epoch: 58/100, Train loss: 0.461137, Val loss: 0.719037, Accuracy: 75.35 %\n",
      "Epoch: 59/100, Train loss: 0.570424, Val loss: 0.695910, Accuracy: 75.96 %\n",
      "Epoch: 59/100, Train loss: 0.769780, Val loss: 0.694600, Accuracy: 76.55 %\n",
      "Epoch: 59/100, Train loss: 0.748321, Val loss: 0.707818, Accuracy: 75.76 %\n",
      "Epoch: 59/100, Train loss: 0.495015, Val loss: 0.696651, Accuracy: 75.94 %\n",
      "Epoch: 59/100, Train loss: 0.653234, Val loss: 0.701726, Accuracy: 75.72 %\n",
      "Epoch: 60/100, Train loss: 0.287834, Val loss: 0.693803, Accuracy: 76.55 %\n",
      "Epoch: 60/100, Train loss: 0.453951, Val loss: 0.696151, Accuracy: 75.88 %\n",
      "Epoch: 60/100, Train loss: 0.441083, Val loss: 0.693481, Accuracy: 76.14 %\n",
      "Epoch: 60/100, Train loss: 0.551378, Val loss: 0.699237, Accuracy: 75.92 %\n",
      "Epoch: 60/100, Train loss: 0.830012, Val loss: 0.724358, Accuracy: 74.64 %\n",
      "Epoch: 61/100, Train loss: 1.059374, Val loss: 0.709717, Accuracy: 75.62 %\n",
      "Epoch: 61/100, Train loss: 0.565441, Val loss: 0.698725, Accuracy: 76.14 %\n",
      "Epoch: 61/100, Train loss: 0.928836, Val loss: 0.699682, Accuracy: 75.81 %\n",
      "Epoch: 61/100, Train loss: 0.428396, Val loss: 0.695035, Accuracy: 75.70 %\n",
      "Epoch: 61/100, Train loss: 0.436982, Val loss: 0.684617, Accuracy: 76.49 %\n",
      "Epoch: 62/100, Train loss: 0.878100, Val loss: 0.696840, Accuracy: 75.89 %\n",
      "Epoch: 62/100, Train loss: 0.551916, Val loss: 0.687818, Accuracy: 76.05 %\n",
      "Epoch: 62/100, Train loss: 0.710055, Val loss: 0.697121, Accuracy: 75.86 %\n",
      "Epoch: 62/100, Train loss: 0.596754, Val loss: 0.693449, Accuracy: 76.45 %\n",
      "Epoch: 62/100, Train loss: 0.633654, Val loss: 0.708076, Accuracy: 75.43 %\n",
      "Epoch: 63/100, Train loss: 0.380008, Val loss: 0.698552, Accuracy: 75.77 %\n",
      "Epoch: 63/100, Train loss: 0.555515, Val loss: 0.690381, Accuracy: 76.43 %\n",
      "Epoch: 63/100, Train loss: 0.432773, Val loss: 0.693812, Accuracy: 76.39 %\n",
      "Epoch: 63/100, Train loss: 0.611821, Val loss: 0.697003, Accuracy: 76.53 %\n",
      "Epoch: 63/100, Train loss: 0.606988, Val loss: 0.695992, Accuracy: 76.10 %\n",
      "Epoch: 64/100, Train loss: 0.706566, Val loss: 0.705590, Accuracy: 75.83 %\n",
      "Epoch: 64/100, Train loss: 0.414343, Val loss: 0.687466, Accuracy: 76.46 %\n",
      "Epoch: 64/100, Train loss: 0.486301, Val loss: 0.689036, Accuracy: 76.24 %\n",
      "Epoch: 64/100, Train loss: 0.670118, Val loss: 0.689910, Accuracy: 76.00 %\n",
      "Epoch: 64/100, Train loss: 0.472842, Val loss: 0.708890, Accuracy: 75.95 %\n",
      "Epoch: 65/100, Train loss: 0.286161, Val loss: 0.687593, Accuracy: 76.45 %\n",
      "Epoch: 65/100, Train loss: 0.608381, Val loss: 0.685791, Accuracy: 76.31 %\n",
      "Epoch: 65/100, Train loss: 0.467360, Val loss: 0.701293, Accuracy: 75.90 %\n",
      "Epoch: 65/100, Train loss: 0.428167, Val loss: 0.708714, Accuracy: 76.10 %\n",
      "Epoch: 65/100, Train loss: 0.557679, Val loss: 0.703446, Accuracy: 75.74 %\n",
      "Epoch: 66/100, Train loss: 0.564948, Val loss: 0.703261, Accuracy: 75.65 %\n",
      "Epoch: 66/100, Train loss: 0.583822, Val loss: 0.694301, Accuracy: 76.15 %\n",
      "Epoch: 66/100, Train loss: 0.611204, Val loss: 0.710364, Accuracy: 75.81 %\n",
      "Epoch: 66/100, Train loss: 0.431136, Val loss: 0.708128, Accuracy: 75.35 %\n",
      "Epoch: 66/100, Train loss: 0.227322, Val loss: 0.691106, Accuracy: 76.27 %\n"
     ]
    },
    {
     "name": "stdout",
     "output_type": "stream",
     "text": [
      "Epoch: 67/100, Train loss: 0.662132, Val loss: 0.704229, Accuracy: 75.41 %\n",
      "Epoch: 67/100, Train loss: 0.359763, Val loss: 0.684010, Accuracy: 76.31 %\n",
      "Epoch: 67/100, Train loss: 0.306638, Val loss: 0.694700, Accuracy: 76.52 %\n",
      "Epoch: 67/100, Train loss: 0.667677, Val loss: 0.686971, Accuracy: 76.25 %\n",
      "Epoch: 67/100, Train loss: 0.551412, Val loss: 0.702902, Accuracy: 75.79 %\n",
      "Epoch: 68/100, Train loss: 0.486167, Val loss: 0.693181, Accuracy: 75.98 %\n",
      "Epoch: 68/100, Train loss: 0.899772, Val loss: 0.700113, Accuracy: 76.09 %\n",
      "Epoch: 68/100, Train loss: 0.811640, Val loss: 0.685880, Accuracy: 76.62 %\n",
      "Epoch: 68/100, Train loss: 0.499649, Val loss: 0.678069, Accuracy: 76.85 %\n",
      "Epoch: 68/100, Train loss: 0.687236, Val loss: 0.691797, Accuracy: 76.19 %\n",
      "Epoch: 69/100, Train loss: 0.614658, Val loss: 0.701520, Accuracy: 76.42 %\n",
      "Epoch: 69/100, Train loss: 0.642671, Val loss: 0.696074, Accuracy: 75.93 %\n",
      "Epoch: 69/100, Train loss: 0.334924, Val loss: 0.677229, Accuracy: 76.56 %\n",
      "Epoch: 69/100, Train loss: 0.958869, Val loss: 0.688984, Accuracy: 76.41 %\n",
      "Epoch: 69/100, Train loss: 0.468697, Val loss: 0.693683, Accuracy: 76.08 %\n",
      "Epoch: 70/100, Train loss: 0.355927, Val loss: 0.685320, Accuracy: 76.76 %\n",
      "Epoch: 70/100, Train loss: 0.601792, Val loss: 0.687108, Accuracy: 76.74 %\n",
      "Epoch: 70/100, Train loss: 0.716966, Val loss: 0.692745, Accuracy: 76.42 %\n",
      "Epoch: 70/100, Train loss: 0.586507, Val loss: 0.700240, Accuracy: 75.98 %\n",
      "Epoch: 70/100, Train loss: 0.530979, Val loss: 0.690846, Accuracy: 75.98 %\n",
      "Epoch: 71/100, Train loss: 0.362855, Val loss: 0.698965, Accuracy: 75.84 %\n",
      "Epoch: 71/100, Train loss: 0.771941, Val loss: 0.680014, Accuracy: 76.83 %\n",
      "Epoch: 71/100, Train loss: 0.742962, Val loss: 0.696208, Accuracy: 76.06 %\n",
      "Epoch: 71/100, Train loss: 0.783198, Val loss: 0.696608, Accuracy: 75.95 %\n",
      "Epoch: 71/100, Train loss: 0.891469, Val loss: 0.693159, Accuracy: 76.45 %\n",
      "Epoch: 72/100, Train loss: 0.596821, Val loss: 0.689544, Accuracy: 76.04 %\n",
      "Epoch: 72/100, Train loss: 0.443897, Val loss: 0.691659, Accuracy: 76.28 %\n",
      "Epoch: 72/100, Train loss: 0.821286, Val loss: 0.684252, Accuracy: 76.24 %\n",
      "Epoch: 72/100, Train loss: 0.474926, Val loss: 0.689430, Accuracy: 76.80 %\n",
      "Epoch: 72/100, Train loss: 0.593409, Val loss: 0.686864, Accuracy: 76.25 %\n",
      "Epoch: 73/100, Train loss: 0.522422, Val loss: 0.694511, Accuracy: 76.29 %\n",
      "Epoch: 73/100, Train loss: 0.855384, Val loss: 0.702469, Accuracy: 76.33 %\n",
      "Epoch: 73/100, Train loss: 0.344643, Val loss: 0.683642, Accuracy: 76.69 %\n",
      "Epoch: 73/100, Train loss: 0.431185, Val loss: 0.700005, Accuracy: 76.54 %\n",
      "Epoch: 73/100, Train loss: 0.376550, Val loss: 0.692830, Accuracy: 76.25 %\n",
      "Epoch: 74/100, Train loss: 0.658579, Val loss: 0.683175, Accuracy: 76.30 %\n",
      "Epoch: 74/100, Train loss: 0.611307, Val loss: 0.679446, Accuracy: 76.49 %\n",
      "Epoch: 74/100, Train loss: 0.504642, Val loss: 0.699836, Accuracy: 76.03 %\n",
      "Epoch: 74/100, Train loss: 0.694780, Val loss: 0.685703, Accuracy: 76.58 %\n",
      "Epoch: 74/100, Train loss: 0.790368, Val loss: 0.682817, Accuracy: 76.48 %\n",
      "Epoch: 75/100, Train loss: 0.354963, Val loss: 0.676762, Accuracy: 76.42 %\n",
      "Epoch: 75/100, Train loss: 0.799429, Val loss: 0.691871, Accuracy: 76.15 %\n",
      "Epoch: 75/100, Train loss: 0.657630, Val loss: 0.697133, Accuracy: 76.17 %\n",
      "Epoch: 75/100, Train loss: 0.527234, Val loss: 0.682028, Accuracy: 76.56 %\n",
      "Epoch: 75/100, Train loss: 0.361072, Val loss: 0.687876, Accuracy: 76.59 %\n",
      "Epoch: 76/100, Train loss: 0.536729, Val loss: 0.698614, Accuracy: 75.81 %\n",
      "Epoch: 76/100, Train loss: 0.428793, Val loss: 0.676182, Accuracy: 76.94 %\n",
      "Epoch: 76/100, Train loss: 0.476519, Val loss: 0.692716, Accuracy: 75.77 %\n",
      "Epoch: 76/100, Train loss: 0.620723, Val loss: 0.687875, Accuracy: 76.19 %\n",
      "Epoch: 76/100, Train loss: 0.413665, Val loss: 0.706632, Accuracy: 76.18 %\n",
      "Epoch: 77/100, Train loss: 0.311886, Val loss: 0.699171, Accuracy: 76.35 %\n",
      "Epoch: 77/100, Train loss: 0.452171, Val loss: 0.670335, Accuracy: 77.02 %\n",
      "Epoch: 77/100, Train loss: 0.430775, Val loss: 0.677435, Accuracy: 77.18 %\n",
      "Epoch: 77/100, Train loss: 0.351758, Val loss: 0.687310, Accuracy: 76.43 %\n",
      "Epoch: 77/100, Train loss: 0.680926, Val loss: 0.681957, Accuracy: 76.42 %\n",
      "Epoch: 78/100, Train loss: 0.494598, Val loss: 0.689553, Accuracy: 76.24 %\n",
      "Epoch: 78/100, Train loss: 0.287852, Val loss: 0.691893, Accuracy: 76.72 %\n",
      "Epoch: 78/100, Train loss: 0.373778, Val loss: 0.689452, Accuracy: 76.63 %\n",
      "Epoch: 78/100, Train loss: 0.490762, Val loss: 0.672523, Accuracy: 77.13 %\n",
      "Epoch: 78/100, Train loss: 0.550325, Val loss: 0.681685, Accuracy: 76.78 %\n",
      "Epoch: 79/100, Train loss: 0.480731, Val loss: 0.692567, Accuracy: 76.10 %\n",
      "Epoch: 79/100, Train loss: 0.632500, Val loss: 0.698263, Accuracy: 76.40 %\n",
      "Epoch: 79/100, Train loss: 0.697709, Val loss: 0.685318, Accuracy: 76.77 %\n",
      "Epoch: 79/100, Train loss: 0.763276, Val loss: 0.703891, Accuracy: 75.93 %\n",
      "Epoch: 79/100, Train loss: 0.444988, Val loss: 0.677091, Accuracy: 76.82 %\n",
      "Epoch: 80/100, Train loss: 0.745671, Val loss: 0.688200, Accuracy: 76.20 %\n",
      "Epoch: 80/100, Train loss: 0.553053, Val loss: 0.683147, Accuracy: 76.72 %\n",
      "Epoch: 80/100, Train loss: 0.541393, Val loss: 0.685791, Accuracy: 76.99 %\n",
      "Epoch: 80/100, Train loss: 0.478752, Val loss: 0.684942, Accuracy: 76.58 %\n",
      "Epoch: 80/100, Train loss: 0.542676, Val loss: 0.688649, Accuracy: 76.24 %\n",
      "Epoch: 81/100, Train loss: 0.478285, Val loss: 0.684975, Accuracy: 76.52 %\n",
      "Epoch: 81/100, Train loss: 0.794505, Val loss: 0.716245, Accuracy: 75.33 %\n",
      "Epoch: 81/100, Train loss: 0.380648, Val loss: 0.683932, Accuracy: 76.96 %\n",
      "Epoch: 81/100, Train loss: 0.726705, Val loss: 0.689093, Accuracy: 76.62 %\n",
      "Epoch: 81/100, Train loss: 0.667108, Val loss: 0.673770, Accuracy: 76.99 %\n",
      "Epoch: 82/100, Train loss: 0.570092, Val loss: 0.698805, Accuracy: 76.21 %\n",
      "Epoch: 82/100, Train loss: 0.549419, Val loss: 0.684609, Accuracy: 76.60 %\n",
      "Epoch: 82/100, Train loss: 0.548497, Val loss: 0.689862, Accuracy: 76.31 %\n",
      "Epoch: 82/100, Train loss: 0.696099, Val loss: 0.678297, Accuracy: 76.56 %\n",
      "Epoch: 82/100, Train loss: 0.416548, Val loss: 0.691723, Accuracy: 76.37 %\n",
      "Epoch: 83/100, Train loss: 0.489865, Val loss: 0.681557, Accuracy: 76.60 %\n",
      "Epoch: 83/100, Train loss: 0.432990, Val loss: 0.694129, Accuracy: 76.41 %\n",
      "Epoch: 83/100, Train loss: 0.424221, Val loss: 0.690844, Accuracy: 76.63 %\n",
      "Epoch: 83/100, Train loss: 0.255941, Val loss: 0.673241, Accuracy: 76.93 %\n",
      "Epoch: 83/100, Train loss: 0.379353, Val loss: 0.673521, Accuracy: 77.17 %\n",
      "Epoch: 84/100, Train loss: 0.330545, Val loss: 0.706961, Accuracy: 76.11 %\n",
      "Epoch: 84/100, Train loss: 0.549295, Val loss: 0.680319, Accuracy: 76.75 %\n",
      "Epoch: 84/100, Train loss: 0.376442, Val loss: 0.675907, Accuracy: 77.18 %\n",
      "Epoch: 84/100, Train loss: 0.352905, Val loss: 0.689112, Accuracy: 76.41 %\n",
      "Epoch: 84/100, Train loss: 0.466015, Val loss: 0.688197, Accuracy: 76.44 %\n",
      "Epoch: 85/100, Train loss: 0.587608, Val loss: 0.690808, Accuracy: 77.06 %\n",
      "Epoch: 85/100, Train loss: 0.383802, Val loss: 0.673047, Accuracy: 77.26 %\n",
      "Epoch: 85/100, Train loss: 0.400832, Val loss: 0.686776, Accuracy: 76.53 %\n",
      "Epoch: 85/100, Train loss: 0.398447, Val loss: 0.671970, Accuracy: 77.41 %\n",
      "Epoch: 85/100, Train loss: 0.445197, Val loss: 0.673255, Accuracy: 77.37 %\n",
      "Epoch: 86/100, Train loss: 0.552848, Val loss: 0.685673, Accuracy: 76.68 %\n",
      "Epoch: 86/100, Train loss: 0.440996, Val loss: 0.683007, Accuracy: 76.94 %\n",
      "Epoch: 86/100, Train loss: 0.297108, Val loss: 0.675785, Accuracy: 76.93 %\n",
      "Epoch: 86/100, Train loss: 0.471155, Val loss: 0.680318, Accuracy: 76.98 %\n",
      "Epoch: 86/100, Train loss: 0.431394, Val loss: 0.687820, Accuracy: 76.71 %\n",
      "Epoch: 87/100, Train loss: 0.445111, Val loss: 0.685426, Accuracy: 76.88 %\n",
      "Epoch: 87/100, Train loss: 0.467283, Val loss: 0.680979, Accuracy: 76.88 %\n",
      "Epoch: 87/100, Train loss: 0.601621, Val loss: 0.681384, Accuracy: 76.86 %\n",
      "Epoch: 87/100, Train loss: 0.797890, Val loss: 0.688911, Accuracy: 76.72 %\n",
      "Epoch: 87/100, Train loss: 0.176234, Val loss: 0.681931, Accuracy: 77.20 %\n",
      "Epoch: 88/100, Train loss: 0.282901, Val loss: 0.691584, Accuracy: 76.92 %\n",
      "Epoch: 88/100, Train loss: 0.168939, Val loss: 0.700459, Accuracy: 76.72 %\n",
      "Epoch: 88/100, Train loss: 0.680674, Val loss: 0.680711, Accuracy: 77.04 %\n",
      "Epoch: 88/100, Train loss: 0.314438, Val loss: 0.701194, Accuracy: 76.23 %\n",
      "Epoch: 88/100, Train loss: 0.585502, Val loss: 0.674692, Accuracy: 77.13 %\n"
     ]
    },
    {
     "name": "stdout",
     "output_type": "stream",
     "text": [
      "Epoch: 89/100, Train loss: 0.556019, Val loss: 0.677779, Accuracy: 76.90 %\n",
      "Epoch: 89/100, Train loss: 0.486778, Val loss: 0.688866, Accuracy: 76.85 %\n",
      "Epoch: 89/100, Train loss: 0.414203, Val loss: 0.672498, Accuracy: 76.81 %\n",
      "Epoch: 89/100, Train loss: 0.476540, Val loss: 0.682179, Accuracy: 76.95 %\n",
      "Epoch: 89/100, Train loss: 0.443633, Val loss: 0.679230, Accuracy: 77.13 %\n",
      "Epoch: 90/100, Train loss: 0.412382, Val loss: 0.678663, Accuracy: 77.14 %\n",
      "Epoch: 90/100, Train loss: 0.387877, Val loss: 0.674715, Accuracy: 76.97 %\n",
      "Epoch: 90/100, Train loss: 0.601463, Val loss: 0.685693, Accuracy: 76.81 %\n",
      "Epoch: 90/100, Train loss: 0.359495, Val loss: 0.694044, Accuracy: 76.51 %\n",
      "Epoch: 90/100, Train loss: 0.577455, Val loss: 0.689205, Accuracy: 76.22 %\n",
      "Epoch: 91/100, Train loss: 0.245883, Val loss: 0.688469, Accuracy: 77.06 %\n",
      "Epoch: 91/100, Train loss: 0.364720, Val loss: 0.686839, Accuracy: 77.15 %\n",
      "Epoch: 91/100, Train loss: 0.537915, Val loss: 0.676189, Accuracy: 77.14 %\n",
      "Epoch: 91/100, Train loss: 0.270845, Val loss: 0.684826, Accuracy: 76.63 %\n",
      "Epoch: 91/100, Train loss: 0.317192, Val loss: 0.684320, Accuracy: 76.72 %\n",
      "Epoch: 92/100, Train loss: 0.370427, Val loss: 0.677938, Accuracy: 76.97 %\n",
      "Epoch: 92/100, Train loss: 0.454369, Val loss: 0.682170, Accuracy: 76.93 %\n",
      "Epoch: 92/100, Train loss: 0.783106, Val loss: 0.693232, Accuracy: 76.69 %\n",
      "Epoch: 92/100, Train loss: 0.289052, Val loss: 0.688651, Accuracy: 77.12 %\n",
      "Epoch: 92/100, Train loss: 0.644592, Val loss: 0.673908, Accuracy: 77.17 %\n",
      "Epoch: 93/100, Train loss: 0.577928, Val loss: 0.686118, Accuracy: 76.93 %\n",
      "Epoch: 93/100, Train loss: 0.422090, Val loss: 0.681292, Accuracy: 77.12 %\n",
      "Epoch: 93/100, Train loss: 0.437022, Val loss: 0.693556, Accuracy: 76.54 %\n",
      "Epoch: 93/100, Train loss: 0.466864, Val loss: 0.683372, Accuracy: 77.10 %\n",
      "Epoch: 93/100, Train loss: 0.299988, Val loss: 0.686063, Accuracy: 76.85 %\n",
      "Epoch: 94/100, Train loss: 0.331525, Val loss: 0.690140, Accuracy: 77.06 %\n",
      "Epoch: 94/100, Train loss: 0.492276, Val loss: 0.675449, Accuracy: 76.80 %\n",
      "Epoch: 94/100, Train loss: 0.351150, Val loss: 0.672668, Accuracy: 77.21 %\n",
      "Epoch: 94/100, Train loss: 0.397024, Val loss: 0.690573, Accuracy: 76.91 %\n",
      "Epoch: 94/100, Train loss: 0.670106, Val loss: 0.686429, Accuracy: 76.99 %\n",
      "Epoch: 95/100, Train loss: 0.332454, Val loss: 0.675215, Accuracy: 77.32 %\n",
      "Epoch: 95/100, Train loss: 0.246697, Val loss: 0.684426, Accuracy: 77.01 %\n",
      "Epoch: 95/100, Train loss: 0.248594, Val loss: 0.686010, Accuracy: 77.37 %\n",
      "Epoch: 95/100, Train loss: 0.363555, Val loss: 0.689137, Accuracy: 76.91 %\n",
      "Epoch: 95/100, Train loss: 0.415208, Val loss: 0.680487, Accuracy: 76.76 %\n",
      "Epoch: 96/100, Train loss: 0.617162, Val loss: 0.683689, Accuracy: 77.07 %\n",
      "Epoch: 96/100, Train loss: 0.338195, Val loss: 0.677431, Accuracy: 77.45 %\n",
      "Epoch: 96/100, Train loss: 0.371804, Val loss: 0.684573, Accuracy: 77.25 %\n",
      "Epoch: 96/100, Train loss: 0.449206, Val loss: 0.686018, Accuracy: 77.01 %\n",
      "Epoch: 96/100, Train loss: 0.282842, Val loss: 0.671532, Accuracy: 77.95 %\n",
      "Epoch: 97/100, Train loss: 0.453011, Val loss: 0.679271, Accuracy: 77.14 %\n",
      "Epoch: 97/100, Train loss: 0.341394, Val loss: 0.695941, Accuracy: 76.83 %\n",
      "Epoch: 97/100, Train loss: 0.382606, Val loss: 0.671555, Accuracy: 77.37 %\n",
      "Epoch: 97/100, Train loss: 0.361063, Val loss: 0.686251, Accuracy: 77.11 %\n",
      "Epoch: 97/100, Train loss: 0.330587, Val loss: 0.677447, Accuracy: 77.38 %\n",
      "Epoch: 98/100, Train loss: 0.517850, Val loss: 0.705802, Accuracy: 76.62 %\n",
      "Epoch: 98/100, Train loss: 0.456246, Val loss: 0.675527, Accuracy: 77.13 %\n",
      "Epoch: 98/100, Train loss: 0.410367, Val loss: 0.681868, Accuracy: 77.28 %\n",
      "Epoch: 98/100, Train loss: 0.390160, Val loss: 0.689757, Accuracy: 76.97 %\n",
      "Epoch: 98/100, Train loss: 0.567006, Val loss: 0.689259, Accuracy: 76.93 %\n",
      "Epoch: 99/100, Train loss: 0.347021, Val loss: 0.695282, Accuracy: 76.95 %\n",
      "Epoch: 99/100, Train loss: 0.725128, Val loss: 0.682872, Accuracy: 77.01 %\n",
      "Epoch: 99/100, Train loss: 0.296540, Val loss: 0.683783, Accuracy: 77.28 %\n",
      "Epoch: 99/100, Train loss: 0.537254, Val loss: 0.686689, Accuracy: 76.71 %\n",
      "Epoch: 99/100, Train loss: 0.338539, Val loss: 0.693256, Accuracy: 76.50 %\n",
      "Epoch: 100/100, Train loss: 0.137594, Val loss: 0.701718, Accuracy: 76.79 %\n",
      "Epoch: 100/100, Train loss: 0.314603, Val loss: 0.677306, Accuracy: 77.44 %\n",
      "Epoch: 100/100, Train loss: 0.889940, Val loss: 0.680764, Accuracy: 77.21 %\n",
      "Epoch: 100/100, Train loss: 0.556833, Val loss: 0.697865, Accuracy: 76.64 %\n",
      "Epoch: 100/100, Train loss: 0.462303, Val loss: 0.684354, Accuracy: 76.71 %\n"
     ]
    }
   ],
   "source": [
    "## YOUR CODE HERE ##\n",
    "device = \"cuda\" if torch.cuda.is_available() else \"cpu\"\n",
    "model = model.to(device)\n",
    "model.train()\n",
    "\n",
    "print_every = 250\n",
    "n_epochs = 100\n",
    "losses = []\n",
    "\n",
    "for epoch in range(n_epochs):\n",
    "    \n",
    "    for batch_i, (images, labels) in enumerate(train_loader):\n",
    "        \n",
    "        images, labels = images.to(device), labels.to(device)\n",
    "        optimizer.zero_grad()\n",
    "        output = model(images)\n",
    "        loss = criterion(output, labels)\n",
    "        loss.backward()\n",
    "        optimizer.step()\n",
    "\n",
    "        if (batch_i + 1) % print_every == 0:\n",
    "            model.eval()\n",
    "            val_losses = []\n",
    "            equals_sum = 0\n",
    "            label_count = 0\n",
    "            \n",
    "            for images, labels in val_loader:\n",
    "            \n",
    "                images, labels = images.to(device), labels.to(device)\n",
    "                output = model(images)\n",
    "                val_loss = criterion(output, labels)\n",
    "                val_losses.append(val_loss.item())\n",
    "                _, pred = torch.max(output, 1)\n",
    "                equals = pred == labels\n",
    "                equals_sum += equals.type(torch.int).flatten().sum()\n",
    "                label_count += labels.shape[0]\n",
    "\n",
    "            accuracy = (equals_sum / label_count) * 100.0\n",
    "            val_loss_mean = np.mean(val_losses)\n",
    "            losses.append((loss.item(), val_loss_mean))\n",
    "            model.train()\n",
    "            \n",
    "            print(f\"Epoch: {(epoch + 1)}/{n_epochs}, \"\n",
    "                  f\"Train Loss: {loss:.6f}, \"\n",
    "                  f\"Val Loss: {val_loss_mean:.6f}, \"\n",
    "                  f\"Accuracy: {accuracy:.2f} %\")"
   ]
  },
  {
   "cell_type": "markdown",
   "metadata": {},
   "source": [
    "Plot the training loss (and validation loss/accuracy, if recorded)."
   ]
  },
  {
   "cell_type": "code",
   "execution_count": 15,
   "metadata": {},
   "outputs": [
    {
     "data": {
      "image/png": "[encoded data removed]",
      "text/plain": [
       "<Figure size 720x576 with 1 Axes>"
      ]
     },
     "metadata": {
      "needs_background": "light"
     },
     "output_type": "display_data"
    }
   ],
   "source": [
    "## YOUR CODE HERE ##\n",
    "losses = np.array(losses)\n",
    "\n",
    "train_losses = losses[:, 0]\n",
    "val_losses = losses[:, 1]\n",
    "val_run = range(len(val_losses))\n",
    "\n",
    "plt.figure(figsize=(10,8))\n",
    "plt.plot(val_run, train_losses, color=\"r\")\n",
    "plt.plot(val_run, val_losses, color=\"b\")\n",
    "plt.xlabel(\"Validation Steps\")\n",
    "plt.ylabel(\"Losses\")\n",
    "plt.legend([\"Train Losses\", \"Validation Losses\"])\n",
    "plt.title(\"Training Losses / Validation Losses\")\n",
    "plt.show()"
   ]
  },
  {
   "cell_type": "markdown",
   "metadata": {},
   "source": [
    "## Testing your model\n",
    "Using the previously created `DataLoader` for the test set, compute the percentage of correct predictions using the highest probability prediction. \n",
    "\n",
    "If your accuracy is over 70%, great work! \n",
    "This is a hard task to exceed 70% on.\n",
    "\n",
    "If your accuracy is under 45%, you'll need to make improvements.\n",
    "Go back and check your model architecture, loss function, and optimizer to make sure they're appropriate for an image classification task."
   ]
  },
  {
   "cell_type": "code",
   "execution_count": 16,
   "metadata": {},
   "outputs": [
    {
     "name": "stdout",
     "output_type": "stream",
     "text": [
      "Test Loss: 0.777852, Test Accuracy: 75.35 %\n"
     ]
    }
   ],
   "source": [
    "## YOUR CODE HERE ##\n",
    "model.eval()\n",
    "test_losses = []\n",
    "equals_sum = 0\n",
    "label_count = 0\n",
    "\n",
    "for images, labels in test_loader:\n",
    "    \n",
    "    images, labels = images.to(device), labels.to(device)\n",
    "    output = model(images)\n",
    "    test_loss = criterion(output, labels)\n",
    "    test_losses.append(test_loss.item())\n",
    "    _, pred = torch.max(output, 1)\n",
    "    equals = pred == labels\n",
    "    equals_sum += equals.type(torch.int).flatten().sum()\n",
    "    label_count += labels.shape[0]\n",
    "\n",
    "accuracy = (equals_sum / label_count) * 100.0\n",
    "test_loss_mean = np.mean(test_losses)\n",
    "\n",
    "print(f\"Test Loss: {test_loss:.6f}, \"\n",
    "      f\"Test Accuracy: {accuracy:.2f} %\")"
   ]
  },
  {
   "cell_type": "markdown",
   "metadata": {},
   "source": [
    "## Saving your model\n",
    "Using `torch.save`, save your model for future loading."
   ]
  },
  {
   "cell_type": "code",
   "execution_count": 17,
   "metadata": {},
   "outputs": [],
   "source": [
    "## YOUR CODE HERE ##\n",
    "model_name = \"cifar_10.pth\"\n",
    "torch.save(model.state_dict(), model_name)"
   ]
  },
  {
   "cell_type": "markdown",
   "metadata": {},
   "source": [
    "## Make a Recommendation\n",
    "\n",
    "Based on your evaluation, what is your recommendation on whether to build or buy? Explain your reasoning below."
   ]
  },
  {
   "cell_type": "markdown",
   "metadata": {},
   "source": [
    "\n",
    "\n",
    "**Double click this cell to modify it**\n",
    "\n",
    "I was able to build a model with a test accuracy of 75.35 %. So I would recommend building an inhouse-solution."
   ]
  }
 ],
 "metadata": {
  "kernelspec": {
   "display_name": "Python 3 (ipykernel)",
   "language": "python",
   "name": "python3"
  },
  "language_info": {
   "codemirror_mode": {
    "name": "ipython",
    "version": 3
   },
   "file_extension": ".py",
   "mimetype": "text/x-python",
   "name": "python",
   "nbconvert_exporter": "python",
   "pygments_lexer": "ipython3",
   "version": "3.10.4"
  }
 },
 "nbformat": 4,
 "nbformat_minor": 4
}
